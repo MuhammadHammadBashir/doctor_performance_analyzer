{
 "cells": [
  {
   "cell_type": "markdown",
   "metadata": {},
   "source": [
    "Processing Doctor details"
   ]
  },
  {
   "cell_type": "code",
   "execution_count": 10,
   "metadata": {},
   "outputs": [
    {
     "name": "stdout",
     "output_type": "stream",
     "text": [
      "<class 'pandas.core.frame.DataFrame'>\n",
      "RangeIndex: 29 entries, 0 to 28\n",
      "Data columns (total 11 columns):\n",
      " #   Column                   Non-Null Count  Dtype  \n",
      "---  ------                   --------------  -----  \n",
      " 0   Appointment Number       2 non-null      float64\n",
      " 1   Appointment Date         2 non-null      object \n",
      " 2   Doctor                   2 non-null      object \n",
      " 3   Clinic                   29 non-null     object \n",
      " 4   Company ID               29 non-null     int64  \n",
      " 5   Company Name             29 non-null     object \n",
      " 6   Chief Complaint          29 non-null     object \n",
      " 7   Diagnosis code (ICD 10)  29 non-null     object \n",
      " 8   Diagnosis Name           29 non-null     object \n",
      " 9   List Of Medication Name  29 non-null     object \n",
      " 10  List Of Procedure Name   29 non-null     object \n",
      "dtypes: float64(1), int64(1), object(9)\n",
      "memory usage: 2.6+ KB\n"
     ]
    }
   ],
   "source": [
    "import numpy as np\n",
    "import random\n",
    "from datetime import datetime, timedelta\n",
    "import pandas as pd\n",
    "# Function to generate a random date\n",
    "def random_date(start, end):\n",
    "    return start + timedelta(days=random.randint(0, int((end - start).days)))\n",
    "\n",
    "# Define the range for the random dates\n",
    "start_date = datetime(2023, 1, 1)\n",
    "end_date = datetime(2023, 12, 31)\n",
    "\n",
    "df = pd.read_csv('Doc Details.csv')\n",
    "\n",
    "df.info()"
   ]
  },
  {
   "cell_type": "code",
   "execution_count": 11,
   "metadata": {},
   "outputs": [],
   "source": [
    "\n",
    "# Fill missing values in the Doctor column\n",
    "doctor_choices = [f'Doctor {i}' for i in range(1, 81)]\n",
    "df['Doctor'] = df['Doctor'].apply(lambda x: random.choice(doctor_choices) if pd.isnull(x) else x)\n",
    "\n"
   ]
  },
  {
   "cell_type": "code",
   "execution_count": 12,
   "metadata": {},
   "outputs": [
    {
     "data": {
      "text/plain": [
       "0      Doctor 1\n",
       "1      Doctor 2\n",
       "2     Doctor 41\n",
       "3     Doctor 68\n",
       "4     Doctor 49\n",
       "5     Doctor 43\n",
       "6     Doctor 71\n",
       "7      Doctor 7\n",
       "8     Doctor 61\n",
       "9     Doctor 40\n",
       "10    Doctor 45\n",
       "11    Doctor 69\n",
       "12    Doctor 39\n",
       "13    Doctor 33\n",
       "14    Doctor 79\n",
       "15     Doctor 8\n",
       "16    Doctor 25\n",
       "17    Doctor 40\n",
       "18    Doctor 34\n",
       "19    Doctor 39\n",
       "20    Doctor 21\n",
       "21    Doctor 10\n",
       "22    Doctor 31\n",
       "23    Doctor 40\n",
       "24    Doctor 15\n",
       "25    Doctor 59\n",
       "26    Doctor 65\n",
       "27    Doctor 25\n",
       "28    Doctor 22\n",
       "Name: Doctor, dtype: object"
      ]
     },
     "execution_count": 12,
     "metadata": {},
     "output_type": "execute_result"
    }
   ],
   "source": [
    "df['Doctor']"
   ]
  },
  {
   "cell_type": "code",
   "execution_count": 13,
   "metadata": {},
   "outputs": [],
   "source": [
    "# Convert existing numbers to integers and store them in a list\n",
    "existing_numbers = df['Appointment Number'].dropna().astype(int).tolist()\n",
    "\n",
    "# Create a set of available 6-digit numbers (from 100000 to 999999) excluding existing numbers\n",
    "available_numbers = set(range(100000, 1000000)) - set(existing_numbers)\n",
    "\n",
    "# Fill missing values with unique 6-digit numbers\n",
    "df['Appointment Number'] = df['Appointment Number'].apply(lambda x: available_numbers.pop() if pd.isnull(x) else x)\n",
    "\n",
    "# Fill missing values in the Appointment Date column with random dates\n",
    "df['Appointment Date'] = df['Appointment Date'].apply(\n",
    "    lambda x: random_date(start_date, end_date).strftime('%m/%d/%Y') if pd.isnull(x) else x\n",
    ")\n",
    "\n"
   ]
  },
  {
   "cell_type": "code",
   "execution_count": 14,
   "metadata": {},
   "outputs": [],
   "source": [
    "df.to_csv('cleaned_doctor_details.csv')"
   ]
  },
  {
   "cell_type": "code",
   "execution_count": 2,
   "metadata": {},
   "outputs": [],
   "source": [
    "import pandas as pd\n",
    "\n",
    "import streamlit as st\n",
    "import matplotlib.pyplot as plt\n",
    "import seaborn as sns\n",
    "import pandas as pd\n",
    "\n",
    "# Streamlit app\n",
    "data = pd.read_csv('cleaned_doctor_details.csv')  # Replace with your actual data source\n",
    "\n",
    "# Parse the Appointment Date column as a datetime object\n",
    "data['Appointment Date'] = pd.to_datetime(data['Appointment Date'])\n",
    "\n",
    "# Clean up data if necessary, e.g., removing unwanted spaces\n",
    "data['Chief Complaint'] = data['Chief Complaint'].str.strip()\n",
    "data['Diagnosis code (ICD 10)'] = data['Diagnosis code (ICD 10)'].str.strip()\n",
    "data['Diagnosis Name'] = data['Diagnosis Name'].str.strip()\n",
    "\n",
    "# Get the unique doctor names and their counts\n",
    "doctor_counts = data['Doctor'].value_counts()\n",
    "# Limit doctor names to \"Doctor 1\" to \"Doctor 10\"\n",
    "doctor_names = [f\"Doctor {i+1}\" for i in range(min(len(doctor_counts), 10))]\n",
    "doctor_names_dict = {name: doctor_names[i] for i, name in enumerate(doctor_counts.index[:10])}\n",
    "doctor_names_dict.update({name: f\"Doctor {i % 10 + 1}\" for i, name in enumerate(doctor_counts.index[10:])})\n",
    "\n",
    "# Apply the renaming\n",
    "data['Doctor'] = data['Doctor'].replace(doctor_names_dict)\n",
    "\n",
    "data.to_csv(\"cleaned_doctor_details_2.csv\")"
   ]
  },
  {
   "cell_type": "code",
   "execution_count": 2,
   "metadata": {},
   "outputs": [],
   "source": [
    "import pandas as pd\n",
    "\n",
    "# Step 1: Read the CSV file into a DataFrame\n",
    "df = pd.read_csv('cleaned_data.csv')\n",
    "\n",
    "# Step 2: Remove spaces from the 'doctor' column\n",
    "df['Doctor Name'] = df['Doctor Name'].str.replace(' ', '', regex=False)\n",
    "\n",
    "# Step 3: Save the cleaned DataFrame back to a CSV file\n",
    "df.to_csv('cleaned_data.csv', index=False)"
   ]
  }
 ],
 "metadata": {
  "kernelspec": {
   "display_name": "base",
   "language": "python",
   "name": "python3"
  },
  "language_info": {
   "codemirror_mode": {
    "name": "ipython",
    "version": 3
   },
   "file_extension": ".py",
   "mimetype": "text/x-python",
   "name": "python",
   "nbconvert_exporter": "python",
   "pygments_lexer": "ipython3",
   "version": "3.11.4"
  }
 },
 "nbformat": 4,
 "nbformat_minor": 2
}
